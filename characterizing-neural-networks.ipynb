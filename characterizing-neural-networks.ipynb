{
 "cells": [
  {
   "cell_type": "markdown",
   "metadata": {},
   "source": [
    "# “On Characterizing the Capacity of Neural Networks Using Algebraic Topology”\n",
    "\n",
    "- <cite data-cite=\"6503695/ZCEJIX27\"></cite>\n",
    "- <cite data-cite=\"6503695/QKXWDQXG\"></cite>\n",
    "- <cite data-cite=\"6503695/NXBHWX2B\"></cite>\n",
    "- <cite data-cite=\"6503695/G77GPP33\"></cite>\n",
    "- <cite data-cite=\"6503695/29DHXJ9A\"></cite>\n",
    "\n",
    "## Failure modes\n",
    "\n",
    "- required training data is exponential in the dimension of the problem\n",
    "- required width of neural network is exponential in the dimension\n",
    "\n",
    "## Summary\n",
    "\n",
    "- persistent homology describes data complexity \n",
    "- we want architectures that reliably express 'holes' $H(\\mathcal{D})$\n",
    "- maybe a shallow architecture does not fit the problem\n",
    "\n",
    "## References\n",
    "\n",
    "<div class=\"cite2c-biblio\"></div>"
   ]
  }
 ],
 "metadata": {},
 "nbformat": 4,
 "nbformat_minor": 2
}
