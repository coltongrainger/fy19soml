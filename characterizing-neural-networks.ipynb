{
 "cells": [
  {
   "cell_type": "markdown",
   "metadata": {
    "slideshow": {
     "slide_type": "slide"
    }
   },
   "source": [
    "$$\\renewcommand{\\sD}{\\mathcal{D}}\n",
    "\\renewcommand{\\RR}{\\mathbb{R}}\n",
    "\\renewcommand{\\ZZ}{\\mathbb{Z}}$$\n",
    "# “On Characterizing the Capacity of Neural Networks Using Algebraic Topology”\n",
    "\n",
    "<cite data-cite=\"6503695/6JPMHH53\"></cite>\n",
    "\n",
    "- Colton Grainger\n",
    "- PhD Student, Mathematics, CU Boulder\n",
    "- repository: `github.com/coltongrainger/fy19soml`\n",
    "\n",
    "<!---\n",
    "- introduce myself\n",
    "- get oriented\n",
    "    - how well am I prepared to understand and comment on Guss's paper?\n",
    "    - what coursework would benefit me sooner than later?\n",
    "    - how are my peers and the faculty involved?\n",
    "- lay out a direction for future research\n",
    "    - why is computational topology relevant to me?\n",
    "        - it's at the intersection of pure math, applied math, cs\n",
    "        - I'm generally inspired by Nikki's work\n",
    "- make an *argument*\n",
    "- reference software\n",
    "    - ripser\n",
    "    - TDAstats\n",
    "--->"
   ]
  },
  {
   "cell_type": "code",
   "execution_count": null,
   "metadata": {},
   "outputs": [],
   "source": []
  },
  {
   "cell_type": "markdown",
   "metadata": {
    "slideshow": {
     "slide_type": "subslide"
    }
   },
   "source": [
    "This talk: <span style=\"color:blue\">**fully connected feed-forward networks.**</span>\n",
    "![](2019-daniely.png)\n",
    "Free parameters: <span style=\"color:blue\">**depth**</span> $\\ell$ (for *layers*) and <span style=\"color:red\">**width**</span> $w$ (or sometimes $h$ for *hidden units*).\n"
   ]
  },
  {
   "cell_type": "markdown",
   "metadata": {
    "slideshow": {
     "slide_type": "slide"
    }
   },
   "source": [
    "# problem: model selection\n",
    "### key idea: consider homological complexity\n",
    "### results: topological phase transitions"
   ]
  },
  {
   "cell_type": "markdown",
   "metadata": {
    "slideshow": {
     "slide_type": "subslide"
    }
   },
   "source": [
    "<img src=\"2010-hyndman.png\" style=\"width: 1400px\"/>\n",
    "\n",
    "(Rob Hyndman, CC-BY-3.0, https://stats.stackexchange.com/q/181)"
   ]
  },
  {
   "cell_type": "markdown",
   "metadata": {
    "slideshow": {
     "slide_type": "subslide"
    }
   },
   "source": [
    "###  plausible approaches <cite data-cite=\"6503695/CIL5D5BD\"></cite>\n",
    "\n",
    "- trial and error\n",
    "- heuristic search\n",
    "    - *scalable?*\n",
    "- exhaustive search\n",
    "    - *computationally feasible?*"
   ]
  },
  {
   "cell_type": "markdown",
   "metadata": {
    "slideshow": {
     "slide_type": "subslide"
    }
   },
   "source": [
    "### example: heuristic search <cite data-cite=\"6503695/SVFFTWZW\"></cite>\n",
    "\n",
    "(Informally) Is there a function $g \\colon \\RR^d \\to \\RR$ that\n",
    "\n",
    "- **is expressible** by a network with $\\ell$-layers and $w$ neurons per layer,\n",
    "- **yet cannot be well-approximated** by any network with $\\tilde{\\ell} < \\ell$ layers, unless the width $\\tilde{w}$ is allowed to be very large?\n",
    "\n",
    "Such a function is said to give a *depth separation*.\n",
    "\n",
    "<!---\n",
    "are such functions dense in the space of data sets? likely...\n",
    "--->"
   ]
  },
  {
   "cell_type": "markdown",
   "metadata": {
    "slideshow": {
     "slide_type": "subslide"
    }
   },
   "source": [
    "> There are $3$-layer networks of width $w \\in O(d^k)$ polynomial in the dimension $d$ that cannot be arbitrarily well approximated by $2$-layer networks, unless the $2$-layer networks have width $\\tilde{w} \\in O(k^d)$ exponential in $d$. <cite data-cite=\"6503695/SVFFTWZW\"></cite>\n",
    "\n",
    "![](2016-eldan.png)\n"
   ]
  },
  {
   "cell_type": "markdown",
   "metadata": {
    "slideshow": {
     "slide_type": "subslide"
    }
   },
   "source": [
    "### example: exhaustive search <cite data-cite=\"6503695/6JPMHH53\"></cite>\n",
    "\n",
    "For each $\\ell \\in \\{1, \\ldots, 6\\}$ and $h_0 \\in \\{1,\\ldots, 500\\}$, (we assume deeper layers are of fixed width, i.e., $h_1, \\ldots, h_\\ell = \\beta_0(\\mathcal{D})$), take\n",
    "<!---\n",
    "from which set of numbers? sheesh, this is mess.\n",
    "- depth, *number of hidden layers*, $\\ell$\n",
    "- width, *hidden units per layer*, $w$   $\\Leftrightarrow$ *number of hidden units*, $h_i$\n",
    "--->\n",
    "- fully connected architectures of $(\\ell, h_i)$ layers and hidden units in the first hidden layer,\n",
    "    - with unit weights initialized to samples from a normal distribution $\\mathcal{N}(0, 1/\\beta_0(\\mathcal{D}))$,\n",
    "    - and rectified linear (ReLu) activation functions.\n",
    "![](2016-guss.png) image: <cite data-cite=\"6503695/GPGK7HG7\"></cite>"
   ]
  },
  {
   "cell_type": "markdown",
   "metadata": {
    "slideshow": {
     "slide_type": "subslide"
    }
   },
   "source": [
    "To train architecture $(\\ell, h_i)$\n",
    "\n",
    "- for each of $930$ synthetic data distributions \n",
    "<!---\n",
    "denoted $(\\ZZ^1, \\{0\\})$ continguously up to $(\\ZZ^{30}, \\ZZ^{30})$,\n",
    "omg this looks like it's going to take *forever*\n",
    "--->\n",
    "    - take $100$ initialized instances of the architecture $(\\ell, h_i)$\n",
    "    - sample the synthetic distribution \n",
    "    - optimize against cross-entropy loss, using the Adam optimizer, a fixed learning rate, and increasing batch size. \n",
    "\n",
    "![](2018-guss-datasets.png)\n",
    "image: <cite data-cite=\"6503695/6JPMHH53\"></cite>\n",
    "\n",
    "<!---\n",
    "wtf is the difference here?\n",
    "https://machinelearning.subwiki.org/wiki/Hyperparameter_optimization\n",
    "https://machinelearning.subwiki.org/wiki/Model_class_selection\n",
    "https://machinelearning.subwiki.org/wiki/Cost_function\n",
    "--->"
   ]
  },
  {
   "cell_type": "markdown",
   "metadata": {
    "slideshow": {
     "slide_type": "subslide"
    }
   },
   "source": [
    "### how to justify our choice of synthetic distributions?\n",
    "### how to measure the error? \n",
    "### why is this an example?"
   ]
  },
  {
   "cell_type": "markdown",
   "metadata": {
    "slideshow": {
     "slide_type": "slide"
    }
   },
   "source": [
    "\n",
    "### ~~main problem: model selection~~\n",
    "# key idea: consider homological complexity\n",
    "### results: topological phase transitions"
   ]
  },
  {
   "cell_type": "markdown",
   "metadata": {
    "slideshow": {
     "slide_type": "subslide"
    }
   },
   "source": [
    "![](2017-hicks-transit-map.png)\n",
    "image: <cite data-cite=\"6503695/QZQ8L3PY\"></cite>"
   ]
  },
  {
   "cell_type": "markdown",
   "metadata": {
    "slideshow": {
     "slide_type": "subslide"
    }
   },
   "source": [
    "![](2017-hicks-transit-map-zoom.png)\n",
    "image: <cite data-cite=\"6503695/QZQ8L3PY\"></cite>"
   ]
  },
  {
   "cell_type": "markdown",
   "metadata": {
    "slideshow": {
     "slide_type": "subslide"
    }
   },
   "source": [
    "## homology\n",
    "\n",
    "> In its most primal manifestation, the homology of a space $X$ returns a sequence of vector spaces $H_\\circ(X)$, the dimensions of which count various types of linearly independent holes in $X$. <cite data-cite=\"6503695/29DHXJ9A\"></cite>\n",
    "\n",
    "$$\\text{torus} \\quad \\xrightarrow{H_\\circ}\\quad \\begin{pmatrix}\\mathbf{Z}^1\\\\ \\mathbf{Z}^2\\\\ \\mathbf{Z}^1\\\\ \\vdots\\end{pmatrix}$$"
   ]
  },
  {
   "cell_type": "markdown",
   "metadata": {
    "slideshow": {
     "slide_type": "subslide"
    }
   },
   "source": [
    "### it's combinatorial!\n",
    "\n",
    "[![](2009-erickson.png)](http://jeffe.cs.illinois.edu/teaching/comptop/2009/notes/cell-complexes.pdf)"
   ]
  },
  {
   "cell_type": "markdown",
   "metadata": {
    "slideshow": {
     "slide_type": "subslide"
    }
   },
   "source": [
    "### approximate the space $X$ with a simplicial complex\n",
    "\n",
    "[![](2009-erickson-vietoris.png)](http://jeffe.cs.illinois.edu/teaching/comptop/2009/notes/cell-complex-examples.pdf)\n",
    "\n",
    "*(Erickson 2009)*"
   ]
  },
  {
   "cell_type": "markdown",
   "metadata": {
    "slideshow": {
     "slide_type": "subslide"
    }
   },
   "source": [
    "### a simplicial complex defines a chain complex of groups\n",
    "\n",
    "- begin with a chain group $\\mathsf{C}_p$, whose elements are formal sums of the $p$-dimensional cells\n",
    "    - akin to vector spaces, sums of basis vectors\n",
    "- the boundary homomorphism $\\delta_p \\colon \\mathsf{C}_p \\to \\mathsf{C}_{p-1}$ maps each $p$-chain to the sum of the $p-1$ dimensional faces of its $p$-cells\n",
    "- for an $n$ dimensional simplicial complex $X$, we have a sequence of homomorphisms linking the chain groups, called the *chain complex* $$0 \\xrightarrow{\\delta_{n+1}} \\mathsf{C}_{n} \\xrightarrow{\\delta_{n}} \\mathsf{C}_{n-1} \\xrightarrow{\\delta_{n-1}} \\cdots \\xrightarrow{\\delta_{2}} \\mathsf{C}_{1} \\xrightarrow{\\delta_{1}} \\mathsf{C}_0 \\xrightarrow{\\delta_{0}} 0.$$\n",
    "<cite data-cite=\"6503695/QKXWDQXG\"></cite>\n"
   ]
  },
  {
   "cell_type": "markdown",
   "metadata": {
    "slideshow": {
     "slide_type": "subslide"
    }
   },
   "source": [
    "The kernels and the images of the boundary homomorphisms are the *cycle* and *boundary groups*. \n",
    "\n",
    "- a $p$-cycle is a $p$-chain $\\alpha$ such that $\\delta_p \\alpha = 0$\n",
    "- a $p$-boundary is a $p$-chain $\\alpha$ such that $\\delta_{p+1} \\beta = \\alpha$ for some $(k+1)$-chain $\\beta$\n",
    "\n",
    "We say two $p$-cycles are *homologous* if they differ by a boundary. (E.g., the red $1$-cycles below are homologous.)\n",
    "\n",
    "![](torus.png)\n",
    "<cite data-cite=\"6503695/RL6BKZK2\"></cite>"
   ]
  },
  {
   "cell_type": "markdown",
   "metadata": {
    "slideshow": {
     "slide_type": "subslide"
    }
   },
   "source": [
    "### Betti numbers\n",
    "\n",
    "- The $p^{th}$ **homology group** $H_p(X)$ is the abelian group of $p$-cycles modulo boundaries. \n",
    "- Usually coeffecients of the chain groups are from $\\{0,1\\}$, so $H_p = \\{0,1\\}^{\\beta_p}$ is a vector space over $\\{0,1\\}$ of dimension $\\beta_p$, where $\\beta_p(X) = \\mathrm{rank}\\ \\, H_p$ is the $p^{th}$ **Betti number.**\n",
    "\n",
    "### finite topological invariants\n",
    "\n",
    "- $\\beta_0$ is the number of connected components, \n",
    "- $\\beta_1$ the number of \"holes or tunnels\", \n",
    "- $\\beta_2$ the number of \"voids\""
   ]
  },
  {
   "cell_type": "markdown",
   "metadata": {
    "slideshow": {
     "slide_type": "subslide"
    }
   },
   "source": [
    "![](2014-morozov.gif)\n",
    "<cite data-cite=\"6503695/Q8G9H7CX\"></cite>"
   ]
  },
  {
   "cell_type": "markdown",
   "metadata": {
    "slideshow": {
     "slide_type": "subslide"
    }
   },
   "source": [
    "### TDA workflow: point cloud $\\to$ nested complexes $\\to$ persistence module $\\to$ barcode"
   ]
  },
  {
   "cell_type": "markdown",
   "metadata": {
    "slideshow": {
     "slide_type": "subslide"
    }
   },
   "source": [
    "## \"eye-squinting\" (scale-free)\n",
    "\n",
    "We need a *filtration* of a simplicial complex, so take *nested complexes*: $$K_1 \\subseteq K_2 \\subseteq \\ldots \\subseteq K_n$$\n",
    "\n",
    "![](2014-morozov-dna.gif)\n",
    "<cite data-cite=\"6503695/Q8G9H7CX\"></cite>"
   ]
  },
  {
   "cell_type": "markdown",
   "metadata": {
    "slideshow": {
     "slide_type": "subslide"
    }
   },
   "source": [
    "### filtrations create nested complexes\n",
    "\n",
    "- $K_1 \\subseteq K_2 \\subseteq \\ldots \\subseteq K_n$, without loss of generality, $K_{i+1} = K_i + \\sigma_i$. \n",
    "    - Just an *ordering* of simplices. <cite data-cite=\"6503695/Q8G9H7CX\"></cite>\n",
    "\n",
    "```\n",
    "simplices = [([0], 1), ([1], 2), ([0,1], 3), ([2], 4), ([1,2], 5), ([0,2], 6)]\n",
    "f = Filtration()\n",
    "for vertices, time in simplices:\n",
    "    f.append(Simplex(vertices, time))\n",
    "```\n",
    "\n",
    "![](2014-morozov-simplices-plain.png)\n"
   ]
  },
  {
   "cell_type": "markdown",
   "metadata": {
    "slideshow": {
     "slide_type": "subslide"
    }
   },
   "source": [
    "### persistence of a homology class: the length of the interval that supports it\n",
    "\n",
    "![](2014-morozov-simplices.png)\n",
    "<cite data-cite=\"6503695/Q8G9H7CX\"></cite>"
   ]
  },
  {
   "cell_type": "markdown",
   "metadata": {
    "slideshow": {
     "slide_type": "subslide"
    }
   },
   "source": [
    "### barcodes: how homology classes persist over time\n",
    "\n",
    "![](2015-topaz.png)\n",
    "<cite data-cite=\"6503695/5N568MB7\"></cite>"
   ]
  },
  {
   "cell_type": "code",
   "execution_count": 16,
   "metadata": {
    "slideshow": {
     "slide_type": "subslide"
    }
   },
   "outputs": [
    {
     "name": "stderr",
     "output_type": "stream",
     "text": [
      "Scale for 'x' is already present. Adding another scale for 'x', which will\n",
      "replace the existing scale.\n"
     ]
    }
   ],
   "source": [
    "# load R wrapper for Ripser\n",
    "library(\"TDAstats\", \"dplyr\", \"cowplot\", \"ggplot2\")\n",
    "\n",
    "## random numbers\n",
    "angles <- runif(100, 0, 2 * pi)\n",
    "azimuthal <- runif(100, 0, pi)\n",
    "interval <- runif(300, -1, 1)\n",
    "\n",
    "## point clouds\n",
    "S2 <- cbind(cos(angles)*sin(azimuthal), sin(angles)*sin(azimuthal), cos(azimuthal))\n",
    "I3 <- matrix(interval, nrow = 100, byrow = TRUE)\n",
    "\n",
    "# compute persistence module from Vietoris-Rips filtration\n",
    "S2.hom <- calculate_homology(S2, dim = 2) \n",
    "I3.hom <- calculate_homology(unif3d, dim = 2)\n",
    "\n",
    "# persistence barcodes to plot, scaled\n",
    "pI3 <- plot_barcode(I3.hom) +  ggtitle(\"within unit 3-cube\")  + xlim(c(0, 1.5))\n",
    "pS2 <- plot_barcode(S2.hom) +  ggtitle(\"on unit 2-sphere\")"
   ]
  },
  {
   "cell_type": "code",
   "execution_count": 17,
   "metadata": {
    "slideshow": {
     "slide_type": "subslide"
    }
   },
   "outputs": [
    {
     "data": {},
     "metadata": {},
     "output_type": "display_data"
    },
    {
     "data": {
      "image/png": "[encoded data removed]",
      "text/plain": [
       "plot without title"
      ]
     },
     "metadata": {},
     "output_type": "display_data"
    }
   ],
   "source": [
    "plot_grid(pI3, pS2)"
   ]
  },
  {
   "cell_type": "code",
   "execution_count": 18,
   "metadata": {
    "scrolled": true,
    "slideshow": {
     "slide_type": "subslide"
    }
   },
   "outputs": [
    {
     "name": "stdout",
     "output_type": "stream",
     "text": [
      "'data.frame':\t5404 obs. of  6 variables:\n",
      " $ V1   : num  0.49 -0.641 0.871 -0.628 -0.596 ...\n",
      " $ V2   : num  -0.4515 0.1092 -0.4599 -0.3163 0.0159 ...\n",
      " $ V3   : num  -1.048 0.292 0.578 1.934 2.043 ...\n",
      " $ V4   : num  -0.599 -0.917 0.807 -1.427 -1.688 ...\n",
      " $ V5   : num  -0.0204 0.2402 0.8352 -0.1366 -0.9481 ...\n",
      " $ Class: int  1 1 1 1 1 1 1 1 1 2 ...\n"
     ]
    }
   ],
   "source": [
    "# load phoneme dataset\n",
    "phonemes <- read.table(\"https://www.openml.org/data/get_csv/1592281/php8Mz7BG\", header=TRUE, sep=\",\")\n",
    "str(phonemes)"
   ]
  },
  {
   "cell_type": "code",
   "execution_count": 19,
   "metadata": {
    "slideshow": {
     "slide_type": "subslide"
    }
   },
   "outputs": [],
   "source": [
    "# split \"training\" phonemes by labels (nasal vs oral)\n",
    "phon1 <- filter(phonemes, Class == 1)\n",
    "phon2 <- filter(phonemes, Class == 2)\n",
    "data1 <- as.matrix(phon1[1:5]); colnames(data1) <- NULL\n",
    "data2 <- as.matrix(phon2[1:5]); colnames(data2) <- NULL\n",
    "\n",
    "# compute persistence modules & plot\n",
    "phon1.hom <- calculate_homology(head(data1, 1000), dim = 1)\n",
    "phon2.hom <- calculate_homology(head(data2, 1000), dim = 1)\n",
    "nasal <- plot_barcode(phon1.hom) + ggtitle(\"Nasal Phonemes\")\n",
    "oral <- plot_barcode(phon2.hom) + ggtitle(\"Oral Phonemes\")"
   ]
  },
  {
   "cell_type": "code",
   "execution_count": 5,
   "metadata": {
    "scrolled": false,
    "slideshow": {
     "slide_type": "subslide"
    }
   },
   "outputs": [
    {
     "data": {},
     "metadata": {},
     "output_type": "display_data"
    },
    {
     "data": {
      "image/png": "[encoded data removed]",
      "text/plain": [
       "plot without title"
      ]
     },
     "metadata": {},
     "output_type": "display_data"
    }
   ],
   "source": [
    "plot_grid(nasal, oral)"
   ]
  },
  {
   "cell_type": "markdown",
   "metadata": {
    "slideshow": {
     "slide_type": "subslide"
    }
   },
   "source": [
    "### in Guss 2018, for *model selection*, not *feature selection*\n",
    "\n",
    "Persistent homology is\n",
    "\n",
    "- a *summary* statistic,\n",
    "- not (always) an enlightening *feature* of dataset"
   ]
  },
  {
   "cell_type": "markdown",
   "metadata": {
    "slideshow": {
     "slide_type": "slide"
    }
   },
   "source": [
    "\n",
    "### ~~main problem: model selection~~\n",
    "### ~~key idea: consider homological complexity~~\n",
    "# results: topological phase transitions"
   ]
  },
  {
   "cell_type": "markdown",
   "metadata": {
    "slideshow": {
     "slide_type": "slide"
    }
   },
   "source": [
    "### Summary\n",
    "\n",
    "> Choosing an architecture whose homological complexity matches that of the dataset, generalizes well. \n",
    ">\n",
    "> <cite data-cite=\"6503695/2IB9R6ZD\"></cite>\n",
    "\n",
    "### Software\n",
    "\n",
    "- [`ripser`](https://github.com/Ripser/ripser) <cite data-cite=\"6503695/QNHSP73F\"></cite>\n",
    "- [`TDAstats`](https://doi.org/10.21105/joss.00860) <cite data-cite=\"6503695/GMEJZPXK\"></cite>\n",
    "\n"
   ]
  },
  {
   "cell_type": "markdown",
   "metadata": {
    "slideshow": {
     "slide_type": "slide"
    }
   },
   "source": [
    "### References\n",
    "\n",
    "<div class=\"cite2c-biblio\"></div>"
   ]
  }
 ],
 "metadata": {
  "celltoolbar": "Slideshow",
  "cite2c": {
   "citations": {
    "6503695/29DHXJ9A": {
     "URL": "https://www.math.upenn.edu/~ghrist/preprints/HAD.pdf",
     "abstract": "These lectures are a quick primer on the basics of applied algebraic topology with emphasis on applications to data. In particular, the perspectives of (elementary) homological algebra, in the form of complexes and co/homological invariants are sketched. Beginning with simplicial and cell complexes as a means of enriching graphs to higher-order structures, we deﬁne simple algebraic topological invariants, such as Euler characteristic. By lifting from complexes of simplices to algebraic complexes of vector spaces, we pass to homology as a topological compression scheme. Iterating this process of expanding to sequences and compressing via homological algebra, we deﬁne persistent homology and related theories, ending with a simple approach to cellular sheaves and their cohomology. Throughout, an emphasis is placed on expressing homological-algebraic tools as the natural evolution of linear algebra. Category-theoretic language (though more natural and expressive) is deemphasized, for the sake of access. Along the way, sample applications of these techniques are sketched, in domains ranging from neuroscience to sensing, image analysis, robotics, and computation.",
     "author": [
      {
       "family": "Ghrist",
       "given": "Robert"
      }
     ],
     "container-title-short": "To appear",
     "id": "6503695/29DHXJ9A",
     "issued": {
      "year": 2017
     },
     "journalAbbreviation": "To appear",
     "language": "en",
     "page": "53",
     "page-first": "53",
     "title": "Homological Algebra and Data",
     "type": "article-journal"
    },
    "6503695/2IB9R6ZD": {
     "URL": "http://arxiv.org/abs/1805.09949",
     "abstract": "We propose the labeled Cˇ ech complex, the plain labeled Vietoris-Rips complex, and the locally scaled labeled Vietoris-Rips complex to perform persistent homology inference of decision boundaries in classiﬁcation tasks. We provide theoretical conditions and analysis for recovering the homology of a decision boundary from samples. Our main objective is quantiﬁcation of deep neural network complexity to enable matching of datasets to pre-trained models; we report results for experiments using MNIST, FashionMNIST, and CIFAR10.",
     "accessed": {
      "day": 22,
      "month": 11,
      "year": 2018
     },
     "author": [
      {
       "family": "Ramamurthy",
       "given": "Karthikeyan Natesan"
      },
      {
       "family": "Varshney",
       "given": "Kush R."
      },
      {
       "family": "Mody",
       "given": "Krishnan"
      }
     ],
     "container-title": "arXiv:1805.09949 [cs, stat]",
     "id": "6503695/2IB9R6ZD",
     "issued": {
      "day": 24,
      "month": 5,
      "year": 2018
     },
     "language": "en",
     "note": "arXiv: 1805.09949",
     "title": "Topological Data Analysis of Decision Boundaries with Application to Model Selection",
     "type": "article-journal"
    },
    "6503695/5N23IT7X": {
     "URL": "http://neuralnetworksanddeeplearning.com",
     "accessed": {
      "day": 23,
      "month": 11,
      "year": 2018
     },
     "author": [
      {
       "family": "Nielsen",
       "given": "Michael A."
      }
     ],
     "id": "6503695/5N23IT7X",
     "issued": {
      "year": 2015
     },
     "language": "en",
     "title": "Neural Networks and Deep Learning",
     "type": "article-journal"
    },
    "6503695/5N568MB7": {
     "DOI": "10.1371/journal.pone.0126383",
     "URL": "https://journals.plos.org/plosone/article?id=10.1371/journal.pone.0126383",
     "abstract": "We apply tools from topological data analysis to two mathematical models inspired by biological aggregations such as bird flocks, fish schools, and insect swarms. Our data consists of numerical simulation output from the models of Vicsek and D'Orsogna. These models are dynamical systems describing the movement of agents who interact via alignment, attraction, and/or repulsion. Each simulation time frame is a point cloud in position-velocity space. We analyze the topological structure of these point clouds, interpreting the persistent homology by calculating the first few Betti numbers. These Betti numbers count connected components, topological circles, and trapped volumes present in the data. To interpret our results, we introduce a visualization that displays Betti numbers over simulation time and topological persistence scale. We compare our topological results to order parameters typically used to quantify the global behavior of aggregations, such as polarization and angular momentum. The topological calculations reveal events and structure not captured by the order parameters.",
     "accessed": {
      "day": 23,
      "month": 11,
      "year": 2018
     },
     "author": [
      {
       "family": "Topaz",
       "given": "Chad M."
      },
      {
       "family": "Ziegelmeier",
       "given": "Lori"
      },
      {
       "family": "Halverson",
       "given": "Tom"
      }
     ],
     "container-title": "PLOS ONE",
     "container-title-short": "PLOS ONE",
     "id": "6503695/5N568MB7",
     "issue": "5",
     "issued": {
      "day": 13,
      "month": 5,
      "year": 2015
     },
     "journalAbbreviation": "PLOS ONE",
     "language": "en",
     "page": "e0126383",
     "page-first": "e0126383",
     "title": "Topological Data Analysis of Biological Aggregation Models",
     "type": "article-journal",
     "volume": "10"
    },
    "6503695/6JPMHH53": {
     "URL": "http://arxiv.org/abs/1802.04443",
     "abstract": "The learnability of different neural architectures can be characterized directly by computable measures of data complexity. In this paper, we reframe the problem of architecture selection as understanding how data determines the most expressive and generalizable architectures suited to that data, beyond inductive bias. After suggesting algebraic topology as a measure for data complexity, we show that the power of a network to express the topological complexity of a dataset in its decision region is a strictly limiting factor in its ability to generalize. We then provide the first empirical characterization of the topological capacity of neural networks. Our empirical analysis shows that at every level of dataset complexity, neural networks exhibit topological phase transitions. This observation allowed us to connect existing theory to empirically driven conjectures on the choice of architectures for fully-connected neural networks.",
     "accessed": {
      "day": 21,
      "month": 11,
      "year": 2018
     },
     "author": [
      {
       "family": "Guss",
       "given": "William H."
      },
      {
       "family": "Salakhutdinov",
       "given": "Ruslan"
      }
     ],
     "container-title": "arXiv:1802.04443 [cs, math, stat]",
     "id": "6503695/6JPMHH53",
     "issued": {
      "day": 12,
      "month": 2,
      "year": 2018
     },
     "note": "arXiv: 1802.04443",
     "title": "On Characterizing the Capacity of Neural Networks using Algebraic Topology",
     "type": "article-journal"
    },
    "6503695/CIL5D5BD": {
     "DOI": "10.1080/01431160802549278",
     "URL": "https://www.tandfonline.com/doi/full/10.1080/01431160802549278",
     "accessed": {
      "day": 23,
      "month": 11,
      "year": 2018
     },
     "author": [
      {
       "family": "Stathakis",
       "given": "D."
      }
     ],
     "container-title": "International Journal of Remote Sensing",
     "id": "6503695/CIL5D5BD",
     "issue": "8",
     "issued": {
      "day": 20,
      "month": 4,
      "year": 2009
     },
     "language": "en",
     "page": "2133-2147",
     "page-first": "2133",
     "title": "How many hidden layers and nodes?",
     "type": "article-journal",
     "volume": "30"
    },
    "6503695/GMEJZPXK": {
     "DOI": "10.21105/joss.00860",
     "URL": "http://joss.theoj.org/papers/10.21105/joss.00860",
     "abstract": "High-dimensional datasets are becoming more common in a variety of scientific fields. Well-known examples include next-generation sequencing in biology, patient health status in medicine, and computer vision in deep learning. Dimension reduction, using methods like principal component analysis (PCA), is a common preprocessing step for such datasets. However, while dimension reduction can save computing and human resources, it comes with the cost of significant information loss. Topological data analysis (TDA) aims to analyze the “shape” of high-dimensional datasets, without dimension reduction, by extracting features that are robust to small perturbations in data. Persistent features of a dataset can be used to describe it, and to compare it to other datasets. Visualization of persistent features can be done using topological barcodes or persistence diagrams (Figure 1). Application of TDA methods has granted greater insight into high-dimensional data (Lakshmikanth et al., 2017); one prominent example of this is its use to characterize a clinically relevant subgroup of breast cancer patients (Nicolau, Levine, & Carlsson, 2011). This is a particularly salient study as Nicolau et al. (2011) used a topological method, termed Progression Analysis of Disease, to identify a patient subgroup with 100% survival using that remains invisible to other clustering methods. The TDAstats R package is a comprehensive pipeline for conducting TDA. Once data is loaded into R, TDAstats can calculate, visualize, and conduct nonparametric statistical inference on persistent homology. The Ripser C++ library (Bauer, 2015), benchmarked at approximately 40 times faster than comparable software, is wrapped using Rcpp (Eddelbuettel & Francois, 2011) for efficient computation of persistent homology. TDAstats generates topological barcodes and persistence diagrams using the ubiquitous ggplot2 library (Wickham, 2016), allowing use of ggplot2 functions to manipulate plots. This reduces the number of manual steps required to prepare publication-quality figures, thus enabling reproducible research (Sandve, Nekrutenko, Taylor, & Hovig, 2013). TDAstats also implements nonparametric hypothesis testing of persistent homology using a permutation test, first described by Robinson & Turner (2017). The permutation test uses statistical resampling to approximate the distribution of the test statistic assuming the null hypothesis is true. To our knowledge, TDAstats is the first library to implement this feature in the context of topological data analysis.",
     "accessed": {
      "day": 22,
      "month": 11,
      "year": 2018
     },
     "author": [
      {
       "family": "R. Wadhwa",
       "given": "Raoul"
      },
      {
       "family": "F.K. Williamson",
       "given": "Drew"
      },
      {
       "family": "Dhawan",
       "given": "Andrew"
      },
      {
       "family": "G. Scott",
       "given": "Jacob"
      }
     ],
     "container-title": "Journal of Open Source Software",
     "id": "6503695/GMEJZPXK",
     "issue": "28",
     "issued": {
      "day": 8,
      "month": 8,
      "year": 2018
     },
     "language": "en",
     "page": "860",
     "page-first": "860",
     "shortTitle": "TDAstats",
     "title": "TDAstats: R pipeline for computing persistent homology in topological data analysis",
     "title-short": "TDAstats",
     "type": "article-journal",
     "volume": "3"
    },
    "6503695/GPGK7HG7": {
     "URL": "http://arxiv.org/abs/1612.04799",
     "abstract": "In this paper we propose a generalization of deep neural networks called deep function machines (DFMs). DFMs act on vector spaces of arbitrary (possibly inﬁnite) dimension and we show that a family of DFMs are invariant to the dimension of input data; that is, the parameterization of the model does not directly hinge on the quality of the input (eg. high resolution images). Using this generalization we provide a new theory of universal approximation of bounded non-linear operators between function spaces. We then suggest that DFMs provide an expressive framework for designing new neural network layer types with topological considerations in mind. Finally, we introduce a novel architecture, RippLeNet, for resolution invariant computer vision, which empirically achieves state of the art invariance.",
     "accessed": {
      "day": 21,
      "month": 11,
      "year": 2018
     },
     "author": [
      {
       "family": "Guss",
       "given": "William H."
      }
     ],
     "container-title": "arXiv:1612.04799 [cs, stat]",
     "id": "6503695/GPGK7HG7",
     "issued": {
      "day": 14,
      "month": 12,
      "year": 2016
     },
     "language": "en",
     "note": "arXiv: 1612.04799",
     "shortTitle": "Deep Function Machines",
     "title": "Deep Function Machines: Generalized Neural Networks for Topological Layer Expression",
     "title-short": "Deep Function Machines",
     "type": "article-journal"
    },
    "6503695/Q8G9H7CX": {
     "URL": "http://hg.mrzv.org/Dionysus-tutorial",
     "author": [
      {
       "family": "Morozov",
       "given": "Dmitriy"
      }
     ],
     "id": "6503695/Q8G9H7CX",
     "issued": {
      "year": 2014
     },
     "language": "en",
     "title": "A Practical Guide to Persistent Homology",
     "type": "speech"
    },
    "6503695/QKXWDQXG": {
     "ISBN": "978-3-03719-120-0",
     "URL": "http://dx.doi.org/10.4171/120-1/3",
     "author": [
      {
       "family": "Edelsbrunner",
       "given": "Herbert"
      },
      {
       "family": "Morozov",
       "given": "Dmitriy"
      }
     ],
     "container-title": "European Congress of Mathematics Kraków, 2 – 7 July, 2012",
     "editor": [
      {
       "family": "Latała",
       "given": "Rafał"
      },
      {
       "family": "Ruciński",
       "given": "Andrzej"
      },
      {
       "family": "Strzelecki",
       "given": "Paweł"
      },
      {
       "family": "Świątkowski",
       "given": "Jacek"
      },
      {
       "family": "Wrzosek",
       "given": "Dariusz"
      },
      {
       "family": "Zakrzewski",
       "given": "Piotr"
      }
     ],
     "id": "6503695/QKXWDQXG",
     "issued": {
      "day": 30,
      "month": 11,
      "year": 2013
     },
     "note": "DOI: 10.4171/120-1/3",
     "page": "31-50",
     "page-first": "31",
     "publisher": "European Mathematical Society Publishing House",
     "title": "Persistent Homology: Theory and Practice",
     "type": "chapter"
    },
    "6503695/QNHSP73F": {
     "URL": "https://github.com/Ripser/ripser",
     "accessed": {
      "day": 25,
      "month": 11,
      "year": 2018
     },
     "author": [
      {
       "family": "Bauer",
       "given": "Ulrich"
      }
     ],
     "id": "6503695/QNHSP73F",
     "issued": {
      "day": 24,
      "month": 11,
      "year": 2018
     },
     "note": "original-date: 2015-10-27T21:43:59Z",
     "publisher": "Ripser",
     "shortTitle": "Ripser",
     "title": "Ripser: efficient computation of Vietoris–Rips persistence barcodes: Ripser/ripser",
     "title-short": "Ripser",
     "type": "book"
    },
    "6503695/QZQ8L3PY": {
     "URL": "https://math.berkeley.edu/~jhicks/classes/spring17math191/Math191Notes.pdf",
     "accessed": {
      "day": 22,
      "month": 11,
      "year": 2018
     },
     "author": [
      {
       "family": "Hicks",
       "given": "Jeff"
      }
     ],
     "id": "6503695/QZQ8L3PY",
     "issued": {
      "year": 2017
     },
     "title": "Combinatorial Topology: A project oriented guide",
     "type": "manuscript"
    },
    "6503695/RL6BKZK2": {
     "DOI": "10.1088/1361-6404/aae790",
     "abstract": "We provide a short introduction to the field of topological data analysis and discuss its possible relevance for the study of complex systems. Topological data analysis provides a set of tools to characterise the shape of data, in terms of the presence of holes or cavities between the points. The methods, based on notion of simplicial complexes, generalise standard network tools by naturally allowing for many-body interactions and providing results robust under continuous deformations of the data. We present strengths and weaknesses of current methods, as well as a range of empirical studies relevant to the field of complex systems, before identifying future methodological challenges to help understand the emergence of collective phenomena.",
     "author": [
      {
       "family": "Salnikov",
       "given": "Vsevolod"
      },
      {
       "family": "Cassese",
       "given": "Daniele"
      },
      {
       "family": "Lambiotte",
       "given": "Renaud"
      }
     ],
     "container-title": "Eur.J.Phys.",
     "id": "6503695/RL6BKZK2",
     "issue": "1",
     "issued": {
      "day": 14,
      "month": 11,
      "year": 2018
     },
     "page": "014001",
     "page-first": "014001",
     "title": "Simplicial complexes and complex systems",
     "type": "article-journal",
     "volume": "40"
    },
    "6503695/SVFFTWZW": {
     "URL": "http://proceedings.mlr.press/v49/eldan16.html",
     "abstract": "We show that there is a simple (approximately radial) function on \\mathbbR^d, expressible by a small 3-layer feedforward neural networks, which cannot be approximated by any 2-layer network, to mor...",
     "accessed": {
      "day": 21,
      "month": 11,
      "year": 2018
     },
     "author": [
      {
       "family": "Eldan",
       "given": "Ronen"
      },
      {
       "family": "Shamir",
       "given": "Ohad"
      }
     ],
     "container-title": "Conference on Learning Theory",
     "event": "Conference on Learning Theory",
     "id": "6503695/SVFFTWZW",
     "issued": {
      "day": 6,
      "month": 6,
      "year": 2016
     },
     "language": "en",
     "page": "907-940",
     "page-first": "907",
     "title": "The Power of Depth for Feedforward Neural Networks",
     "type": "paper-conference"
    }
   }
  },
  "kernelspec": {
   "display_name": "R",
   "language": "R",
   "name": "ir"
  },
  "language_info": {
   "codemirror_mode": "r",
   "file_extension": ".r",
   "mimetype": "text/x-r-source",
   "name": "R",
   "pygments_lexer": "r",
   "version": "3.5.1"
  }
 },
 "nbformat": 4,
 "nbformat_minor": 2
}
